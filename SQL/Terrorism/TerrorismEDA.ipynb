{
 "cells": [
  {
   "cell_type": "markdown",
   "metadata": {},
   "source": [
    "<h3>\n",
    "Adding a primary key as there is no suitable identifier present\n",
    "</h3>"
   ]
  },
  {
   "cell_type": "code",
   "execution_count": null,
   "metadata": {
    "vscode": {
     "languageId": "plaintext"
    }
   },
   "outputs": [],
   "source": [
    "ALTER TABLE terrorismdata\n",
    "ADD id INT AUTO_INCREMENT PRIMARY KEY;"
   ]
  },
  {
   "cell_type": "markdown",
   "metadata": {},
   "source": [
    "<h3>\n",
    "Change the position of the primarykey to the first column\n",
    "</h3>"
   ]
  },
  {
   "cell_type": "code",
   "execution_count": null,
   "metadata": {
    "vscode": {
     "languageId": "plaintext"
    }
   },
   "outputs": [],
   "source": [
    "ALTER TABLE terrorismdata\n",
    "MODIFY COLUMN id INT FIRST;"
   ]
  },
  {
   "cell_type": "markdown",
   "metadata": {},
   "source": [
    "<h3>\n",
    "Count the number of unique items each column has\n",
    "</h3>"
   ]
  },
  {
   "cell_type": "code",
   "execution_count": null,
   "metadata": {
    "vscode": {
     "languageId": "plaintext"
    }
   },
   "outputs": [],
   "source": [
    "select count(distinct country) as countryCount\n",
    "\t,  count(distinct state) as stateCount\n",
    "    ,  count(distinct region) as regionCount\n",
    "    ,  count(distinct city) as cityCount\n",
    "    ,  count(distinct attacktype) as attacktypeCount\n",
    "    ,  count(distinct  target) as targetCount\n",
    "    ,  count(distinct `group`) as groupCount -- backticks were used because group is a keyword in mysql\n",
    "    , count(distinct target_type) as ttCount\n",
    "    , count(distinct weapon_type) as wpCount\n",
    "from terrorismdata;"
   ]
  },
  {
   "cell_type": "markdown",
   "metadata": {},
   "source": [
    "<h3>\n",
    "Count the number of empty values each column has\n",
    "</h3>"
   ]
  },
  {
   "cell_type": "code",
   "execution_count": null,
   "metadata": {
    "vscode": {
     "languageId": "plaintext"
    }
   },
   "outputs": [],
   "source": [
    "select \n",
    "\tsum(case when year = '' then 1 else 0 end) as yearEmpty\n",
    "\t, \tsum(case when month = '' then 1 else 0 end) as monthEmpty\n",
    "    , \tsum(case when day = '' then 1 else 0 end) as dayEmpty\n",
    "    ,\tsum(case when country = '' then 1 else 0 end) as countryEmpty\n",
    "    ,\tsum(case when state = '' then 1 else 0 end) as stateEmpty\n",
    "    , \tsum(case when region = '' then 1 else 0 end) as regionEmpty\n",
    "    , \tsum(case when city = '' then 1 else 0 end) as cityEmpty\n",
    "    , \tsum(case when attacktype= '' then 1 else 0 end) as attackTypeEmpty\n",
    "    , \tsum(case when killed = '' then 1 else 0 end) as killedEmpty\n",
    "    , \tsum(case when wounded = '' then 1 else 0 end) as woundedEmpty\n",
    "    , \tsum(case when target = '' then 1 else 0 end) as targetEmpty\n",
    "    , \tsum(case when `group` = '' then 1 else 0 end) as groupEmpty\n",
    "    , \tsum(case when target_type = '' then 1 else 0 end) as ttEmpty\n",
    "    , \tsum(case when weapon_type = '' then 1 else 0 end) as wtEmpty\n",
    "from terrorismdata;\n"
   ]
  },
  {
   "cell_type": "markdown",
   "metadata": {},
   "source": [
    "<h3>\n",
    "Delete data for null values of killed and wounded\n",
    "</h3>"
   ]
  },
  {
   "cell_type": "code",
   "execution_count": null,
   "metadata": {
    "vscode": {
     "languageId": "plaintext"
    }
   },
   "outputs": [],
   "source": [
    "SET SQL_SAFE_UPDATES = 0;\n",
    "\n",
    "delete  from terrorismdata\n",
    "where wounded = \"\" or killed='';\n",
    "\n",
    "SET SQL_SAFE_UPDATES = 1;"
   ]
  },
  {
   "cell_type": "markdown",
   "metadata": {},
   "source": [
    "<h3>\n",
    "Average, Minimum, Maximum and Total number of people that were killed or wounded\n",
    "</h3>\n",
    "<ul>Group by</ul>\n",
    "<li>Attack type</li>\n",
    "<li>Weapon</li>\n",
    "<li>Target Type</li>\n",
    "<li>Region</li>\n",
    "<li>Year</li>"
   ]
  },
  {
   "cell_type": "code",
   "execution_count": null,
   "metadata": {
    "vscode": {
     "languageId": "plaintext"
    }
   },
   "outputs": [],
   "source": [
    "select year\n",
    "\t, avg(cast(wounded as decimal)) averageWounded\n",
    "    , avg(cast(killed as decimal)) averageKilled\n",
    "\t, max(cast(wounded as decimal)) maxWounded\n",
    "    , max(cast(killed as decimal)) maxKilled\n",
    "    , min(cast(wounded as decimal)) minWounded\n",
    "    , min(cast(killed as decimal)) minKilled\n",
    "    , sum(cast(wounded as decimal)) Totalwounded\n",
    "    , sum(cast(killed as decimal)) TotalKilled\n",
    "from terrorismdata\n",
    "-- group by attacktype\n",
    "-- group by weaopncount\n",
    "-- group by target_type\n",
    "-- group by region\n",
    "group by year;"
   ]
  }
 ],
 "metadata": {
  "language_info": {
   "name": "python"
  }
 },
 "nbformat": 4,
 "nbformat_minor": 2
}
